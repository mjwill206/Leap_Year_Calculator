{
 "cells": [
  {
   "cell_type": "markdown",
   "metadata": {},
   "source": [
    "# Day 3.1: Leap Year Calculator"
   ]
  },
  {
   "cell_type": "code",
   "execution_count": null,
   "metadata": {},
   "outputs": [],
   "source": [
    "year = input(\"Please enter a year (in yyyy format; Ex: 1999)\\n\")\n",
    "print()\n",
    "if int(year) % 4 == 0:\n",
    "    if int(year) % 100 == 0:\n",
    "        if int(year) % 400 == 0:\n",
    "            print(f'{year} is a leap year.')\n",
    "        else:\n",
    "            print(f'{year} is not a leap year.')\n",
    "    else:\n",
    "        print(f'{year} is a leap year.')\n",
    "else:\n",
    "    print(f'{year} is not a leap year.')\n",
    "        "
   ]
  }
 ],
 "metadata": {
  "kernelspec": {
   "display_name": "Python 3",
   "language": "python",
   "name": "python3"
  },
  "language_info": {
   "codemirror_mode": {
    "name": "ipython",
    "version": 3
   },
   "file_extension": ".py",
   "mimetype": "text/x-python",
   "name": "python",
   "nbconvert_exporter": "python",
   "pygments_lexer": "ipython3",
   "version": "3.7.6"
  }
 },
 "nbformat": 4,
 "nbformat_minor": 4
}
